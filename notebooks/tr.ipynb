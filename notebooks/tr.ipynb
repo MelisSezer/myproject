{
 "cells": [
  {
   "cell_type": "code",
   "execution_count": null,
   "id": "8480054a",
   "metadata": {},
   "outputs": [
    {
     "name": "stdout",
     "output_type": "stream",
     "text": [
      "Veri çekme aralığı: 2018-07-12 - 2025-07-10\n",
      "TR bbox 26.0433512713,35.8215347357,44.7939896991,42.1414848903 içindeki sensörler çekiliyor...\n",
      "Sayfa 1 çekildi, 484 konum eklendi.\n",
      "\n",
      "Toplam 1862 sensör için GÜNLÜK veri çekiliyor...\n"
     ]
    },
    {
     "name": "stderr",
     "output_type": "stream",
     "text": [
      "Sensör Verileri Çekiliyor:  10%|█         | 191/1862 [08:37<1:11:57,  2.58s/it]"
     ]
    },
    {
     "name": "stdout",
     "output_type": "stream",
     "text": [
      "\n",
      "Sensör 5079632 için hata (Sayfa 2): The read operation timed out. Bekleniyor...\n"
     ]
    },
    {
     "name": "stderr",
     "output_type": "stream",
     "text": [
      "Sensör Verileri Çekiliyor:  20%|██        | 377/1862 [16:19<26:38,  1.08s/it]  "
     ]
    },
    {
     "name": "stdout",
     "output_type": "stream",
     "text": [
      "\n",
      "Sensör 6359137 için hata (Sayfa 1): Rate limit exceeded. Limit resets in 19 seconds. Bekleniyor...\n",
      "20 saniye bekleniyor...\n"
     ]
    },
    {
     "name": "stderr",
     "output_type": "stream",
     "text": [
      "Sensör Verileri Çekiliyor:  22%|██▏       | 406/1862 [17:31<31:36,  1.30s/it]  "
     ]
    },
    {
     "name": "stdout",
     "output_type": "stream",
     "text": [
      "\n",
      "Sensör 7047668 için hata (Sayfa 1): Rate limit exceeded. Limit resets in 8 seconds. Bekleniyor...\n",
      "9 saniye bekleniyor...\n"
     ]
    },
    {
     "name": "stderr",
     "output_type": "stream",
     "text": [
      "Sensör Verileri Çekiliyor:  23%|██▎       | 436/1862 [18:28<41:12,  1.73s/it]  "
     ]
    },
    {
     "name": "stdout",
     "output_type": "stream",
     "text": [
      "\n",
      "Sensör 11635466 için hata (Sayfa 1): Rate limit exceeded. Limit resets in 12 seconds. Bekleniyor...\n",
      "13 saniye bekleniyor...\n"
     ]
    },
    {
     "name": "stderr",
     "output_type": "stream",
     "text": [
      "Sensör Verileri Çekiliyor:  25%|██▌       | 466/1862 [19:24<24:42,  1.06s/it]  "
     ]
    },
    {
     "name": "stdout",
     "output_type": "stream",
     "text": [
      "\n",
      "Sensör 2378994 için hata (Sayfa 1): Rate limit exceeded. Limit resets in 17 seconds. Bekleniyor...\n",
      "18 saniye bekleniyor...\n"
     ]
    },
    {
     "name": "stderr",
     "output_type": "stream",
     "text": [
      "Sensör Verileri Çekiliyor:  27%|██▋       | 496/1862 [20:25<32:54,  1.45s/it]  "
     ]
    },
    {
     "name": "stdout",
     "output_type": "stream",
     "text": [
      "\n",
      "Sensör 2078313 için hata (Sayfa 1): Rate limit exceeded. Limit resets in 17 seconds. Bekleniyor...\n",
      "18 saniye bekleniyor...\n"
     ]
    },
    {
     "name": "stderr",
     "output_type": "stream",
     "text": [
      "Sensör Verileri Çekiliyor:  28%|██▊       | 526/1862 [21:28<38:47,  1.74s/it]  "
     ]
    },
    {
     "name": "stdout",
     "output_type": "stream",
     "text": [
      "\n",
      "Sensör 2078383 için hata (Sayfa 1): Rate limit exceeded. Limit resets in 15 seconds. Bekleniyor...\n",
      "16 saniye bekleniyor...\n"
     ]
    },
    {
     "name": "stderr",
     "output_type": "stream",
     "text": [
      "Sensör Verileri Çekiliyor:  38%|███▊      | 712/1862 [29:25<34:14,  1.79s/it]  "
     ]
    },
    {
     "name": "stdout",
     "output_type": "stream",
     "text": [
      "\n",
      "Sensör 2085288 için hata (Sayfa 2): Rate limit exceeded. Limit resets in 13 seconds. Bekleniyor...\n",
      "14 saniye bekleniyor...\n"
     ]
    },
    {
     "name": "stderr",
     "output_type": "stream",
     "text": [
      "Sensör Verileri Çekiliyor:  40%|███▉      | 742/1862 [30:25<32:47,  1.76s/it]  "
     ]
    },
    {
     "name": "stdout",
     "output_type": "stream",
     "text": [
      "\n",
      "Sensör 2078575 için hata (Sayfa 2): Rate limit exceeded. Limit resets in 16 seconds. Bekleniyor...\n",
      "17 saniye bekleniyor...\n"
     ]
    },
    {
     "name": "stderr",
     "output_type": "stream",
     "text": [
      "Sensör Verileri Çekiliyor:  42%|████▏     | 773/1862 [31:25<29:30,  1.63s/it]  "
     ]
    },
    {
     "name": "stdout",
     "output_type": "stream",
     "text": [
      "\n",
      "Sensör 10826663 için hata (Sayfa 1): Rate limit exceeded. Limit resets in 18 seconds. Bekleniyor...\n",
      "19 saniye bekleniyor...\n"
     ]
    },
    {
     "name": "stderr",
     "output_type": "stream",
     "text": [
      "Sensör Verileri Çekiliyor:  43%|████▎     | 803/1862 [32:32<23:08,  1.31s/it]  "
     ]
    },
    {
     "name": "stdout",
     "output_type": "stream",
     "text": [
      "\n",
      "Sensör 6755374 için hata (Sayfa 1): Rate limit exceeded. Limit resets in 13 seconds. Bekleniyor...\n",
      "14 saniye bekleniyor...\n"
     ]
    },
    {
     "name": "stderr",
     "output_type": "stream",
     "text": [
      "Sensör Verileri Çekiliyor:  45%|████▍     | 833/1862 [33:32<17:28,  1.02s/it]  "
     ]
    },
    {
     "name": "stdout",
     "output_type": "stream",
     "text": [
      "\n",
      "Sensör 2086306 için hata (Sayfa 1): Rate limit exceeded. Limit resets in 13 seconds. Bekleniyor...\n",
      "14 saniye bekleniyor...\n"
     ]
    },
    {
     "name": "stderr",
     "output_type": "stream",
     "text": [
      "Sensör Verileri Çekiliyor:  48%|████▊     | 891/1862 [35:34<29:38,  1.83s/it]  "
     ]
    },
    {
     "name": "stdout",
     "output_type": "stream",
     "text": [
      "\n",
      "Sensör 2078268 için hata (Sayfa 1): Rate limit exceeded. Limit resets in 3 seconds. Bekleniyor...\n",
      "4 saniye bekleniyor...\n"
     ]
    },
    {
     "name": "stderr",
     "output_type": "stream",
     "text": [
      "Sensör Verileri Çekiliyor:  49%|████▉     | 921/1862 [36:29<22:22,  1.43s/it]"
     ]
    },
    {
     "name": "stdout",
     "output_type": "stream",
     "text": [
      "\n",
      "Sensör 2078299 için hata (Sayfa 1): Rate limit exceeded. Limit resets in 10 seconds. Bekleniyor...\n",
      "11 saniye bekleniyor...\n"
     ]
    },
    {
     "name": "stderr",
     "output_type": "stream",
     "text": [
      "Sensör Verileri Çekiliyor:  51%|█████     | 951/1862 [37:28<26:32,  1.75s/it]  "
     ]
    },
    {
     "name": "stdout",
     "output_type": "stream",
     "text": [
      "\n",
      "Sensör 13937 için hata (Sayfa 1): Rate limit exceeded. Limit resets in 11 seconds. Bekleniyor...\n",
      "12 saniye bekleniyor...\n"
     ]
    },
    {
     "name": "stderr",
     "output_type": "stream",
     "text": [
      "Sensör Verileri Çekiliyor:  53%|█████▎    | 981/1862 [38:35<28:23,  1.93s/it]  "
     ]
    },
    {
     "name": "stdout",
     "output_type": "stream",
     "text": [
      "\n",
      "Sensör 2078359 için hata (Sayfa 1): Rate limit exceeded. Limit resets in 5 seconds. Bekleniyor...\n",
      "6 saniye bekleniyor...\n"
     ]
    },
    {
     "name": "stderr",
     "output_type": "stream",
     "text": [
      "Sensör Verileri Çekiliyor:  54%|█████▍    | 1011/1862 [39:37<28:51,  2.03s/it] "
     ]
    },
    {
     "name": "stdout",
     "output_type": "stream",
     "text": [
      "\n",
      "Sensör 2078389 için hata (Sayfa 1): Rate limit exceeded. Limit resets in 4 seconds. Bekleniyor...\n",
      "5 saniye bekleniyor...\n"
     ]
    },
    {
     "name": "stderr",
     "output_type": "stream",
     "text": [
      "Sensör Verileri Çekiliyor:  57%|█████▋    | 1068/1862 [41:30<23:23,  1.77s/it]"
     ]
    },
    {
     "name": "stdout",
     "output_type": "stream",
     "text": [
      "\n",
      "Sensör 2078447 için hata (Sayfa 2): Rate limit exceeded. Limit resets in 7 seconds. Bekleniyor...\n",
      "8 saniye bekleniyor...\n"
     ]
    },
    {
     "name": "stderr",
     "output_type": "stream",
     "text": [
      "Sensör Verileri Çekiliyor:  59%|█████▉    | 1098/1862 [42:29<23:53,  1.88s/it]"
     ]
    },
    {
     "name": "stdout",
     "output_type": "stream",
     "text": [
      "\n",
      "Sensör 2078477 için hata (Sayfa 2): Rate limit exceeded. Limit resets in 10 seconds. Bekleniyor...\n",
      "11 saniye bekleniyor...\n"
     ]
    },
    {
     "name": "stderr",
     "output_type": "stream",
     "text": [
      "Sensör Verileri Çekiliyor:  61%|██████    | 1128/1862 [43:29<21:51,  1.79s/it]  "
     ]
    },
    {
     "name": "stdout",
     "output_type": "stream",
     "text": [
      "\n",
      "Sensör 2078507 için hata (Sayfa 2): Rate limit exceeded. Limit resets in 10 seconds. Bekleniyor...\n",
      "11 saniye bekleniyor...\n"
     ]
    },
    {
     "name": "stderr",
     "output_type": "stream",
     "text": [
      "Sensör Verileri Çekiliyor:  62%|██████▏   | 1158/1862 [44:29<21:24,  1.82s/it]  "
     ]
    },
    {
     "name": "stdout",
     "output_type": "stream",
     "text": [
      "\n",
      "Sensör 2078537 için hata (Sayfa 2): Rate limit exceeded. Limit resets in 11 seconds. Bekleniyor...\n",
      "12 saniye bekleniyor...\n"
     ]
    },
    {
     "name": "stderr",
     "output_type": "stream",
     "text": [
      "Sensör Verileri Çekiliyor:  64%|██████▍   | 1188/1862 [45:34<18:31,  1.65s/it]  "
     ]
    },
    {
     "name": "stdout",
     "output_type": "stream",
     "text": [
      "\n",
      "Sensör 2078568 için hata (Sayfa 2): Rate limit exceeded. Limit resets in 8 seconds. Bekleniyor...\n",
      "9 saniye bekleniyor...\n"
     ]
    },
    {
     "name": "stderr",
     "output_type": "stream",
     "text": [
      "Sensör Verileri Çekiliyor:  65%|██████▌   | 1218/1862 [46:31<16:52,  1.57s/it]"
     ]
    },
    {
     "name": "stdout",
     "output_type": "stream",
     "text": [
      "\n",
      "Sensör 2078598 için hata (Sayfa 2): Rate limit exceeded. Limit resets in 13 seconds. Bekleniyor...\n",
      "14 saniye bekleniyor...\n"
     ]
    },
    {
     "name": "stderr",
     "output_type": "stream",
     "text": [
      "Sensör Verileri Çekiliyor:  67%|██████▋   | 1248/1862 [47:36<19:08,  1.87s/it]  "
     ]
    },
    {
     "name": "stdout",
     "output_type": "stream",
     "text": [
      "\n",
      "Sensör 2078628 için hata (Sayfa 2): Rate limit exceeded. Limit resets in 9 seconds. Bekleniyor...\n",
      "10 saniye bekleniyor...\n"
     ]
    },
    {
     "name": "stderr",
     "output_type": "stream",
     "text": [
      "Sensör Verileri Çekiliyor:  70%|███████   | 1307/1862 [49:33<17:27,  1.89s/it]"
     ]
    },
    {
     "name": "stdout",
     "output_type": "stream",
     "text": [
      "\n",
      "Sensör 2078689 için hata (Sayfa 2): Rate limit exceeded. Limit resets in 5 seconds. Bekleniyor...\n",
      "6 saniye bekleniyor...\n"
     ]
    },
    {
     "name": "stderr",
     "output_type": "stream",
     "text": [
      "Sensör Verileri Çekiliyor:  72%|███████▏  | 1337/1862 [50:31<14:56,  1.71s/it]"
     ]
    },
    {
     "name": "stdout",
     "output_type": "stream",
     "text": [
      "\n",
      "Sensör 2078719 için hata (Sayfa 2): Rate limit exceeded. Limit resets in 9 seconds. Bekleniyor...\n",
      "10 saniye bekleniyor...\n"
     ]
    },
    {
     "name": "stderr",
     "output_type": "stream",
     "text": [
      "Sensör Verileri Çekiliyor:  73%|███████▎  | 1367/1862 [51:33<13:35,  1.65s/it]"
     ]
    },
    {
     "name": "stdout",
     "output_type": "stream",
     "text": [
      "\n",
      "Sensör 2078750 için hata (Sayfa 2): Rate limit exceeded. Limit resets in 7 seconds. Bekleniyor...\n",
      "8 saniye bekleniyor...\n"
     ]
    },
    {
     "name": "stderr",
     "output_type": "stream",
     "text": [
      "Sensör Verileri Çekiliyor:  75%|███████▌  | 1397/1862 [52:33<12:28,  1.61s/it]"
     ]
    },
    {
     "name": "stdout",
     "output_type": "stream",
     "text": [
      "\n",
      "Sensör 2078774 için hata (Sayfa 2): Rate limit exceeded. Limit resets in 9 seconds. Bekleniyor...\n",
      "10 saniye bekleniyor...\n"
     ]
    },
    {
     "name": "stderr",
     "output_type": "stream",
     "text": [
      "Sensör Verileri Çekiliyor:  77%|███████▋  | 1427/1862 [53:35<12:26,  1.72s/it]"
     ]
    },
    {
     "name": "stdout",
     "output_type": "stream",
     "text": [
      "\n",
      "Sensör 2078811 için hata (Sayfa 2): Rate limit exceeded. Limit resets in 9 seconds. Bekleniyor...\n",
      "10 saniye bekleniyor...\n"
     ]
    },
    {
     "name": "stderr",
     "output_type": "stream",
     "text": [
      "Sensör Verileri Çekiliyor:  78%|███████▊  | 1457/1862 [54:36<12:37,  1.87s/it]"
     ]
    },
    {
     "name": "stdout",
     "output_type": "stream",
     "text": [
      "\n",
      "Sensör 2078841 için hata (Sayfa 2): Rate limit exceeded. Limit resets in 10 seconds. Bekleniyor...\n",
      "11 saniye bekleniyor...\n"
     ]
    },
    {
     "name": "stderr",
     "output_type": "stream",
     "text": [
      "Sensör Verileri Çekiliyor:  80%|███████▉  | 1487/1862 [55:35<10:21,  1.66s/it]"
     ]
    },
    {
     "name": "stdout",
     "output_type": "stream",
     "text": [
      "\n",
      "Sensör 2078871 için hata (Sayfa 2): Rate limit exceeded. Limit resets in 12 seconds. Bekleniyor...\n",
      "13 saniye bekleniyor...\n"
     ]
    },
    {
     "name": "stderr",
     "output_type": "stream",
     "text": [
      "Sensör Verileri Çekiliyor:  83%|████████▎ | 1546/1862 [57:31<08:40,  1.65s/it]"
     ]
    },
    {
     "name": "stdout",
     "output_type": "stream",
     "text": [
      "\n",
      "Sensör 2078933 için hata (Sayfa 2): Rate limit exceeded. Limit resets in 7 seconds. Bekleniyor...\n",
      "8 saniye bekleniyor...\n"
     ]
    },
    {
     "name": "stderr",
     "output_type": "stream",
     "text": [
      "Sensör Verileri Çekiliyor:  85%|████████▍ | 1576/1862 [58:27<08:44,  1.84s/it]"
     ]
    },
    {
     "name": "stdout",
     "output_type": "stream",
     "text": [
      "\n",
      "Sensör 2078963 için hata (Sayfa 2): Rate limit exceeded. Limit resets in 13 seconds. Bekleniyor...\n",
      "14 saniye bekleniyor...\n"
     ]
    },
    {
     "name": "stderr",
     "output_type": "stream",
     "text": [
      "Sensör Verileri Çekiliyor:  86%|████████▋ | 1606/1862 [59:35<07:56,  1.86s/it]"
     ]
    },
    {
     "name": "stdout",
     "output_type": "stream",
     "text": [
      "\n",
      "Sensör 2078995 için hata (Sayfa 2): Rate limit exceeded. Limit resets in 7 seconds. Bekleniyor...\n",
      "8 saniye bekleniyor...\n"
     ]
    },
    {
     "name": "stderr",
     "output_type": "stream",
     "text": [
      "Sensör Verileri Çekiliyor:  88%|████████▊ | 1636/1862 [1:00:34<07:11,  1.91s/it]"
     ]
    },
    {
     "name": "stdout",
     "output_type": "stream",
     "text": [
      "\n",
      "Sensör 2079026 için hata (Sayfa 2): Rate limit exceeded. Limit resets in 9 seconds. Bekleniyor...\n",
      "10 saniye bekleniyor...\n"
     ]
    },
    {
     "name": "stderr",
     "output_type": "stream",
     "text": [
      "Sensör Verileri Çekiliyor:  91%|█████████ | 1689/1862 [1:02:29<04:47,  1.66s/it]"
     ]
    },
    {
     "name": "stdout",
     "output_type": "stream",
     "text": [
      "\n",
      "Sensör 14735 için hata (Sayfa 2): Rate limit exceeded. Limit resets in 8 seconds. Bekleniyor...\n",
      "9 saniye bekleniyor...\n"
     ]
    },
    {
     "name": "stderr",
     "output_type": "stream",
     "text": [
      "Sensör Verileri Çekiliyor:  92%|█████████▏| 1719/1862 [1:03:24<04:06,  1.72s/it]"
     ]
    },
    {
     "name": "stdout",
     "output_type": "stream",
     "text": [
      "\n",
      "Sensör 2079048 için hata (Sayfa 2): Rate limit exceeded. Limit resets in 14 seconds. Bekleniyor...\n",
      "15 saniye bekleniyor...\n"
     ]
    },
    {
     "name": "stderr",
     "output_type": "stream",
     "text": [
      "Sensör Verileri Çekiliyor:  97%|█████████▋| 1804/1862 [1:06:37<01:47,  1.86s/it]"
     ]
    },
    {
     "name": "stdout",
     "output_type": "stream",
     "text": [
      "\n",
      "Sensör 15758 için hata (Sayfa 2): Rate limit exceeded. Limit resets in 2 seconds. Bekleniyor...\n",
      "3 saniye bekleniyor...\n"
     ]
    },
    {
     "name": "stderr",
     "output_type": "stream",
     "text": [
      "Sensör Verileri Çekiliyor: 100%|█████████▉| 1859/1862 [1:08:38<00:09,  3.13s/it]"
     ]
    },
    {
     "name": "stdout",
     "output_type": "stream",
     "text": [
      "\n",
      "Sensör 16175 için hata (Sayfa 1): The operation did not complete (read) (_ssl.c:2559). Bekleniyor...\n"
     ]
    },
    {
     "name": "stderr",
     "output_type": "stream",
     "text": [
      "Sensör Verileri Çekiliyor: 100%|██████████| 1862/1862 [1:09:01<00:00,  2.22s/it]\n"
     ]
    },
    {
     "name": "stdout",
     "output_type": "stream",
     "text": [
      "\n",
      "İşlenmemiş ham veri başarıyla 'openaq_raw_data_tr.csv' dosyasına kaydedildi.\n",
      "Toplam 663555 satır ham veri çekildi.\n"
     ]
    }
   ],
   "source": [
    "# BLOK1:APİDEN VERİ ÇEKME\n",
    "import pandas as pd\n",
    "from openaq import OpenAQ\n",
    "from datetime import datetime, timedelta\n",
    "import time\n",
    "from tqdm import tqdm\n",
    "\n",
    "API_KEY = \"beb87bdeb247d901be44e59bd044aa34556b5c4752592b5a2cd9da243a25a466\"\n",
    "BBOX_TR = \"26.0433512713,35.8215347357,44.7939896991,42.1414848903\" # Türkiye koordinatları\n",
    "COUNTRY_CODE = 'TR'\n",
    "RAW_DATA_FILE = 'openaq_raw_data_tr.csv' \n",
    "\n",
    "client = OpenAQ(api_key=API_KEY)\n",
    "# Verilen koordinattaki sensörler çekiliyor\n",
    "def get_sensor_ids(bbox, client, country_code):\n",
    "    all_sensor_ids, sensor_country_map = [], {}\n",
    "    page = 1\n",
    "    print(f\"{country_code} bbox {bbox} içindeki sensörler çekiliyor...\")\n",
    "    while True:\n",
    "        try:\n",
    "            resp = client.locations.list(bbox=bbox, limit=1000, page=page)\n",
    "            if not resp.results: break\n",
    "            for loc in resp.results:\n",
    "                if hasattr(loc, 'sensors') and loc.sensors:\n",
    "                    for sensor in loc.sensors:\n",
    "                        sensor_id = getattr(sensor, 'id', None)\n",
    "                        if sensor_id:\n",
    "                            all_sensor_ids.append(sensor_id)\n",
    "                            sensor_country_map[sensor_id] = getattr(loc.country, 'code', country_code)\n",
    "            print(f\"Sayfa {page} çekildi, {len(resp.results)} konum eklendi.\")\n",
    "            page += 1; time.sleep(0.2)\n",
    "        except Exception as e:\n",
    "            print(f\"Hata (Sayfa {page}): {e}. 5 saniye bekleniyor.\"); time.sleep(5)\n",
    "            continue\n",
    "    return list(set(all_sensor_ids)), sensor_country_map\n",
    "# Sensörlerden günlük verilerl çekiliyor\n",
    "def get_daily_by_sid(sids, start, end, sensor_map, sleep_time=0.3):\n",
    "    all_data = []\n",
    "    print(f\"\\nToplam {len(sids)} sensör için günlük veri çekiliyor...\")\n",
    "    for sid in tqdm(sids, desc=\"Sensör Verileri Çekiliyor\"):\n",
    "        page = 1\n",
    "        while True:\n",
    "            try:\n",
    "                resp = client.measurements.list(sensors_id=sid, data=\"days\", datetime_from=start, datetime_to=end, limit=1000, page=page)\n",
    "                if not resp.results: break\n",
    "                for res in resp.results:\n",
    "                    all_data.append({\n",
    "                        \"from_date\": res.period.datetime_from.utc,\n",
    "                        \"name\": res.parameter.name,\n",
    "                        \"value\": res.value,\n",
    "                        \"unit\": res.parameter.units,\n",
    "                        \"country\": sensor_map.get(sid, 'Unknown')\n",
    "                    })\n",
    "                page += 1; time.sleep(sleep_time)\n",
    "            except Exception as e:\n",
    "                print(f\"\\nSensör {sid} için hata (Sayfa {page}): {e}. Bekleniyor...\")\n",
    "                try:\n",
    "                    wait_time = int(str(e).split('resets in ')[1].split(' ')[0]) + 1\n",
    "                    print(f\"{wait_time} saniye bekleniyor...\"); time.sleep(wait_time)\n",
    "                except:\n",
    "                    time.sleep(10)\n",
    "                continue\n",
    "    return pd.DataFrame(all_data)\n",
    "#7 yıllık veri alınıyor sadece\n",
    "bitis = datetime.now()\n",
    "baslangic = bitis - timedelta(days=365 * 7)\n",
    "baslangic_str = baslangic.strftime(\"%Y-%m-%d\")\n",
    "bitis_str = bitis.strftime(\"%Y-%m-%d\")\n",
    "print(f\"Veri çekme aralığı: {baslangic_str} - {bitis_str}\")\n",
    "\n",
    "sensor_ids, sensor_country_map = get_sensor_ids(BBOX_TR, client, COUNTRY_CODE)\n",
    "if sensor_ids:\n",
    "    raw_df = get_daily_by_sid(sensor_ids, baslangic_str, bitis_str, sensor_country_map)\n",
    "    if not raw_df.empty:\n",
    "        raw_df.to_csv(RAW_DATA_FILE, index=False)\n",
    "        print(f\"\\nİşlenmemiş ham veri başarıyla '{RAW_DATA_FILE}' dosyasına kaydedildi\")\n",
    "        print(f\"Toplam {len(raw_df)} satır ham veri çekildi\")\n",
    "    else:\n",
    "        print(\"API'den veri çekilemedi\")\n",
    "else:\n",
    "    print(\"Belirtilen alanda sensör bulunamadı\")"
   ]
  },
  {
   "cell_type": "code",
   "execution_count": null,
   "id": "8a59f506",
   "metadata": {},
   "outputs": [
    {
     "name": "stdout",
     "output_type": "stream",
     "text": [
      "'openaq_raw_data_tr.csv' dosyasından ham veri okunuyor...\n",
      "\n",
      "Birim dönüşümü başlıyor...\n"
     ]
    },
    {
     "name": "stderr",
     "output_type": "stream",
     "text": [
      "Birimler Dönüştürülüyor: 100%|██████████| 663555/663555 [00:21<00:00, 30668.45it/s]\n"
     ]
    },
    {
     "name": "stdout",
     "output_type": "stream",
     "text": [
      "\n",
      "Veri işleme ve pivotlama başlıyor...\n",
      "\n",
      "İşlenmiş (logaritmasız) veri 'tr_air_quality_processed.csv' dosyasına kaydedildi.\n",
      "İşlenmiş verinin ilk 5 satırı:\n",
      "                  from_date           co        no2         o3  pm1  \\\n",
      "0 2016-12-11 21:00:00+00:00  4321.000000  53.000000  53.500000  NaN   \n",
      "1 2016-12-13 21:00:00+00:00          NaN   6.500000  73.000000  NaN   \n",
      "2 2016-12-16 21:00:00+00:00   280.000000   0.000000  37.000000  NaN   \n",
      "3 2016-12-21 21:00:00+00:00    84.000000   3.000000  90.000000  NaN   \n",
      "4 2016-12-22 21:00:00+00:00  1526.944444  59.106897  26.691837  NaN   \n",
      "\n",
      "         pm10  pm25  pressure  relativehumidity         so2  temperature  \\\n",
      "0  304.500000   NaN       NaN               NaN  198.500000          NaN   \n",
      "1         NaN   NaN       NaN               NaN    5.000000          NaN   \n",
      "2   10.000000   NaN       NaN               NaN   16.000000          NaN   \n",
      "3   15.500000   NaN       NaN               NaN    8.500000          NaN   \n",
      "4   70.526804   NaN       NaN               NaN   32.945223          NaN   \n",
      "\n",
      "   um003  \n",
      "0    NaN  \n",
      "1    NaN  \n",
      "2    NaN  \n",
      "3    NaN  \n",
      "4    NaN  \n"
     ]
    }
   ],
   "source": [
    "# BLOK2: VERİ ÖN İŞLEME \n",
    "import pandas as pd\n",
    "from tqdm import tqdm\n",
    "\n",
    "RAW_DATA_FILE = 'openaq_raw_data_tr.csv'\n",
    "PROCESSED_FILE_PATH = 'tr_air_quality_processed.csv'\n",
    "COUNTRY_CODE = 'TR'\n",
    "# Kirleticilerin birimleri eşitleniyor\n",
    "def process_data(file_path, country_code):\n",
    "    print(f\"'{file_path}' dosyasından ham veri okunuyor...\")\n",
    "    df = pd.read_csv(file_path)\n",
    "    \n",
    "    print(\"\\nBirim dönüşümü başlıyor...\")\n",
    "    MOLAR_MASSES = {'co': 28.01, 'no2': 46.01, 'o3': 48.00, 'so2': 64.07} # internetten alınan değerler\n",
    "    MOLAR_VOLUME = 24.45\n",
    "    converted_degers = []\n",
    "    for index, row in tqdm(df.iterrows(), total=df.shape[0], desc=\"Birimler Dönüştürülüyor\"):\n",
    "        param, unit, deger = str(row['name']).lower(), str(row['unit']).lower(), row['deger']\n",
    "        yeni_degeri = None\n",
    "        if pd.notna(deger) and deger >= 0:\n",
    "            if unit == 'µg/m³': yeni_degeri = deger\n",
    "            else:\n",
    "                molar_mass = MOLAR_MASSES.get(param)\n",
    "                if molar_mass is not None:\n",
    "                    if unit == 'ppm': yeni_degeri = (deger * molar_mass * 1000) / MOLAR_VOLUME\n",
    "                    elif unit == 'ppb': yeni_degeri = (deger * molar_mass) / MOLAR_VOLUME\n",
    "                    else: yeni_degeri = deger\n",
    "                else: yeni_degeri = deger\n",
    "        converted_degers.append(yeni_degeri)\n",
    "    df['deger_converted'] = converted_degers\n",
    "    \n",
    "    # Pivotlama\n",
    "    print(\"\\nVeri işleme ve pivotlama başlıyor...\")\n",
    "    df['from_date'] = pd.to_datetime(df['from_date'], errors='coerce')\n",
    "    df.dropna(subset=['from_date', 'deger_converted'], inplace=True)\n",
    "    df_filtered = df[df['country'] == country_code].copy()\n",
    "    \n",
    "    df_pivot = df_filtered.pivot_table(index='from_date', columns='name', degers='deger_converted', aggfunc='mean').reset_index()\n",
    "    df_pivot.columns.name = None\n",
    "    df_pivot.sort_degers(by='from_date', ascending=True, inplace=True)\n",
    "    \n",
    "    return df_pivot\n",
    "\n",
    "try:\n",
    "    processed_df = process_data(RAW_DATA_FILE, COUNTRY_CODE)\n",
    "    processed_df.to_csv(PROCESSED_FILE_PATH, index=False)\n",
    "    print(f\"\\nİşlenmiş (logaritmasız) veri '{PROCESSED_FILE_PATH}' dosyasına kaydedildi.\")\n",
    "    print(\"İşlenmiş verinin ilk 5 satırı:\")\n",
    "    print(processed_df.head())\n",
    "except FileNotFoundError:\n",
    "    print(f\"Hata: '{RAW_DATA_FILE}' bulunamadı.\")"
   ]
  },
  {
   "cell_type": "code",
   "execution_count": null,
   "id": "ee4b01d4",
   "metadata": {},
   "outputs": [
    {
     "name": "stdout",
     "output_type": "stream",
     "text": [
      "'tr_air_quality_processed.csv' dosyasından veri okunuyor...\n",
      "Veri başarıyla yüklendi. Boyut: (1624, 11)\n",
      "\n",
      "Eksik veri yönetimi başlıyor...\n",
      "Eksik veri yönetimi tamamlandı.\n",
      "\n",
      "Aşırı aykırı değerler %99.9 persentil ile kırpılıyor...\n",
      "  'co' sütunu, üst sınır '3719868.69' ile kırpıldı.\n",
      "  'no2' sütunu, üst sınır '187.53' ile kırpıldı.\n",
      "  'o3' sütunu, üst sınır '598.78' ile kırpıldı.\n",
      "  'pm1' sütunu, üst sınır '48.47' ile kırpıldı.\n",
      "  'pm10' sütunu, üst sınır '410914.25' ile kırpıldı.\n",
      "  'pm25' sütunu, üst sınır '14705.52' ile kırpıldı.\n",
      "  'pressure' sütunu, üst sınır '1032.75' ile kırpıldı.\n",
      "  'relativehumidity' sütunu, üst sınır '81.70' ile kırpıldı.\n",
      "  'so2' sütunu, üst sınır '238.17' ile kırpıldı.\n",
      "  'temperature' sütunu, üst sınır '30.61' ile kırpıldı.\n",
      "  'um003' sütunu, üst sınır '13209.32' ile kırpıldı.\n",
      "\n",
      "Logaritmik dönüşüm uygulanıyor...\n",
      "\n",
      "Öznitelik mühendisliği başlıyor...\n",
      "Öznitelik mühendisliği tamamlandı.\n",
      "\n",
      "Temizlenmiş ve öznitelik mühendisliği yapılmış veri 'tr_air_quality_engineered.csv' dosyasına kaydedildi.\n"
     ]
    },
    {
     "name": "stderr",
     "output_type": "stream",
     "text": [
      "C:\\Users\\melis\\AppData\\Local\\Temp\\ipykernel_32320\\1264478784.py:28: FutureWarning: DataFrame.fillna with 'method' is deprecated and will raise in a future version. Use obj.ffill() or obj.bfill() instead.\n",
      "  df.fillna(method='ffill', inplace=True); df.fillna(method='bfill', inplace=True)\n",
      "C:\\Users\\melis\\AppData\\Local\\Temp\\ipykernel_32320\\1264478784.py:52: FutureWarning: DataFrame.fillna with 'method' is deprecated and will raise in a future version. Use obj.ffill() or obj.bfill() instead.\n",
      "  df.fillna(method='bfill', inplace=True)\n"
     ]
    }
   ],
   "source": [
    "# BLOK3: FEATURE ENGINEERING\n",
    "import pandas as pd\n",
    "import numpy as np\n",
    "\n",
    "PROCESSED_FILE_PATH = 'tr_air_quality_processed.csv'\n",
    "ENGINEERED_FILE_PATH = 'tr_air_quality_engineered.csv'\n",
    "\n",
    "print(f\"'{PROCESSED_FILE_PATH}' dosyasından veri okunuyor...\")\n",
    "try:\n",
    "    df = pd.read_csv(PROCESSED_FILE_PATH, parse_dates=['from_date'])\n",
    "    df.set_index('from_date', inplace=True)\n",
    "    print(f\"Veri başarıyla yüklendi. Boyut: {df.shape}\")\n",
    "except FileNotFoundError:\n",
    "    print(f\"Hata: '{PROCESSED_FILE_PATH}' bulunamadı\")\n",
    "    exit()\n",
    "\n",
    "df.sort_index(inplace=True)\n",
    "\n",
    "# Eksik veri interpolate yöntemi ile dolduruldu\n",
    "print(\"\\nEksik veri yönetimi başlıyor...\")\n",
    "pollutant_cols = [col for col in df.columns if df[col].dtype in ['float64', 'int64']]\n",
    "# Ülke sütunu çıkarıldı\n",
    "if 'country' in pollutant_cols: pollutant_cols.remove('country')\n",
    "\n",
    "df[pollutant_cols] = df[pollutant_cols].interpolate(method='time', limit_direction='both')\n",
    "df.fillna(method='ffill', inplace=True); df.fillna(method='bfill', inplace=True)\n",
    "print(\"Eksik veri yönetimi tamamlandı\")\n",
    "\n",
    "\n",
    "# Aşırı değerler kırpıldı\n",
    "print(\"\\nAşırı aykırı değerler %99.9 persentil ile kırpılıyor...\")\n",
    "for col in pollutant_cols:\n",
    "    ust_limit = df[col].quantile(0.999)\n",
    "    df[col] = df[col].clip(upper=ust_limit)\n",
    "    print(f\" '{col}' sütunu, üst sınır '{ust_limit:.2f}' ile kırpıldı.\")\n",
    "\n",
    "# Logaritmik dönüşüm yapıldı her bir col için hatayı minizimize etmek lazım çünkü\n",
    "print(\"\\nLogaritmik dönüşüm uygulanıyor...\")\n",
    "for col in pollutant_cols:\n",
    "    df[col] = np.log1p(df[col])\n",
    "\n",
    "# Türetilmiş bazı yararlı öznitelikler ekleniyor\n",
    "print(\"\\nÖznitelik mühendisliği başlıyor...\")\n",
    "df['year'] = df.index.year; df['month'] = df.index.month; df['day_of_week'] = df.index.dayofweek\n",
    "for pollutant in pollutant_cols:\n",
    "    for lag in [1, 3, 7]: df[f'{pollutant}_lag_{lag}d'] = df[pollutant].shift(lag)\n",
    "    for window in [3, 7]: df[f'{pollutant}_roll_mean_{window}d'] = df[pollutant].rolling(window, closed='left').mean()\n",
    "df.fillna(method='bfill', inplace=True)\n",
    "print(\"Öznitelik mühendisliği tamamlandı\")\n",
    "\n",
    "df.to_csv(ENGINEERED_FILE_PATH, index=True)\n",
    "print(f\"\\nTemizlenmiş veri '{ENGINEERED_FILE_PATH}' dosyasına kaydedildi\")"
   ]
  },
  {
   "cell_type": "code",
   "execution_count": null,
   "id": "a382cfe2",
   "metadata": {},
   "outputs": [
    {
     "name": "stdout",
     "output_type": "stream",
     "text": [
      "'tr_air_quality_engineered.csv' yüklendi. Boyut: (1624, 69)\n",
      "\n",
      ">>> TR: XGBOOST - CO modeli eğitiliyor...\n",
      "-> CO için XGBOOST modeli eğitildi ve kaydedildi.\n",
      "\n",
      ">>> TR: XGBOOST - NO2 modeli eğitiliyor...\n",
      "-> NO2 için XGBOOST modeli eğitildi ve kaydedildi.\n",
      "\n",
      ">>> TR: XGBOOST - O3 modeli eğitiliyor...\n",
      "-> O3 için XGBOOST modeli eğitildi ve kaydedildi.\n",
      "\n",
      ">>> TR: XGBOOST - PM10 modeli eğitiliyor...\n",
      "-> PM10 için XGBOOST modeli eğitildi ve kaydedildi.\n",
      "\n",
      ">>> TR: XGBOOST - PM25 modeli eğitiliyor...\n",
      "-> PM25 için XGBOOST modeli eğitildi ve kaydedildi.\n",
      "\n",
      ">>> TR: XGBOOST - SO2 modeli eğitiliyor...\n",
      "-> SO2 için XGBOOST modeli eğitildi ve kaydedildi.\n",
      "\n",
      ">>> TR: RANDOMFOREST - CO modeli eğitiliyor...\n",
      "-> CO için RANDOMFOREST modeli eğitildi ve kaydedildi.\n",
      "\n",
      ">>> TR: RANDOMFOREST - NO2 modeli eğitiliyor...\n",
      "-> NO2 için RANDOMFOREST modeli eğitildi ve kaydedildi.\n",
      "\n",
      ">>> TR: RANDOMFOREST - O3 modeli eğitiliyor...\n",
      "-> O3 için RANDOMFOREST modeli eğitildi ve kaydedildi.\n",
      "\n",
      ">>> TR: RANDOMFOREST - PM10 modeli eğitiliyor...\n",
      "-> PM10 için RANDOMFOREST modeli eğitildi ve kaydedildi.\n",
      "\n",
      ">>> TR: RANDOMFOREST - PM25 modeli eğitiliyor...\n",
      "-> PM25 için RANDOMFOREST modeli eğitildi ve kaydedildi.\n",
      "\n",
      ">>> TR: RANDOMFOREST - SO2 modeli eğitiliyor...\n",
      "-> SO2 için RANDOMFOREST modeli eğitildi ve kaydedildi.\n",
      "\n",
      ">>> TR: MLP - CO modeli eğitiliyor...\n",
      "-> CO için MLP modeli eğitildi ve kaydedildi.\n",
      "\n",
      ">>> TR: MLP - NO2 modeli eğitiliyor...\n",
      "-> NO2 için MLP modeli eğitildi ve kaydedildi.\n",
      "\n",
      ">>> TR: MLP - O3 modeli eğitiliyor...\n",
      "-> O3 için MLP modeli eğitildi ve kaydedildi.\n",
      "\n",
      ">>> TR: MLP - PM10 modeli eğitiliyor...\n",
      "-> PM10 için MLP modeli eğitildi ve kaydedildi.\n",
      "\n",
      ">>> TR: MLP - PM25 modeli eğitiliyor...\n",
      "-> PM25 için MLP modeli eğitildi ve kaydedildi.\n",
      "\n",
      ">>> TR: MLP - SO2 modeli eğitiliyor...\n",
      "-> SO2 için MLP modeli eğitildi ve kaydedildi.\n",
      "\n",
      ">>> TR: KNN - CO modeli eğitiliyor...\n",
      "-> CO için KNN modeli eğitildi ve kaydedildi.\n",
      "\n",
      ">>> TR: KNN - NO2 modeli eğitiliyor...\n",
      "-> NO2 için KNN modeli eğitildi ve kaydedildi.\n",
      "\n",
      ">>> TR: KNN - O3 modeli eğitiliyor...\n",
      "-> O3 için KNN modeli eğitildi ve kaydedildi.\n",
      "\n",
      ">>> TR: KNN - PM10 modeli eğitiliyor...\n",
      "-> PM10 için KNN modeli eğitildi ve kaydedildi.\n",
      "\n",
      ">>> TR: KNN - PM25 modeli eğitiliyor...\n",
      "-> PM25 için KNN modeli eğitildi ve kaydedildi.\n",
      "\n",
      ">>> TR: KNN - SO2 modeli eğitiliyor...\n",
      "-> SO2 için KNN modeli eğitildi ve kaydedildi.\n"
     ]
    }
   ],
   "source": [
    "# BLOK4: TRAİNİNG\n",
    "import pandas as pd\n",
    "import numpy as np\n",
    "from sklearn.model_selection import train_test_split, RandomizedSearchCV, TimeSeriesSplit\n",
    "from sklearn.preprocessing import RobustScaler\n",
    "from sklearn.feature_selection import SelectKBest, f_regression\n",
    "import joblib\n",
    "import warnings\n",
    "import xgboost as xgb\n",
    "from sklearn.ensemble import RandomForestRegressor\n",
    "from sklearn.neural_network import MLPRegressor\n",
    "from sklearn.neighbors import KNeighborsRegressor\n",
    "warnings.filterwarnings('ignore')\n",
    "\n",
    "COUNTRY_CODE = 'tr' \n",
    "ENGINEERED_FILE_PATH = f'{COUNTRY_CODE}_air_quality_engineered.csv'\n",
    "TARGET_POLLUTANTS = ['co', 'no2', 'o3', 'pm10', 'pm25', 'so2']\n",
    "FORECAST_HORIZON = 1\n",
    "\n",
    "# Veri yükleme\n",
    "df_engineered = pd.read_csv(ENGINEERED_FILE_PATH, index_col='from_date', parse_dates=True)\n",
    "print(f\"'{ENGINEERED_FILE_PATH}' yüklendi. Boyut: {df_engineered.shape}\")\n",
    "\n",
    "# Model tanımları\n",
    "models = {\n",
    "    \"xgboost\": {\"estimator\": xgb.XGBRegressor(random_state=42), \"params\": {'n_estimators': [100, 300], 'max_depth': [5, 7]}},\n",
    "    \"randomforest\": {\"estimator\": RandomForestRegressor(random_state=42), \"params\": {'n_estimators': [100, 200], 'max_depth': [10, 20]}},\n",
    "    \"mlp\": {\"estimator\": MLPRegressor(random_state=42, max_iter=500, early_stopping=True), \"params\": {'hidden_layer_sizes': [(64, 32)], 'alpha': [0.001, 0.05]}},\n",
    "    \"knn\": {\"estimator\": KNeighborsRegressor(), \"params\": {'n_neighbors': [7, 15], 'weights': ['uniform', 'distance']}}\n",
    "}\n",
    "\n",
    "available_targets = [p for p in TARGET_POLLUTANTS if p in df_engineered.columns]\n",
    "\n",
    "for model_name, model_info in models.items():\n",
    "    for target in available_targets:\n",
    "        print(f\"\\n>>> {COUNTRY_CODE.upper()}: {model_name.upper()} - {target.upper()} modeli eğitiliyor...\")\n",
    "        \n",
    "        # 1. Veri hazırlama\n",
    "        features_to_use = [col for col in df_engineered.columns if col not in TARGET_POLLUTANTS + ['country']]\n",
    "        X = df_engineered[features_to_use].copy()\n",
    "        y = df_engineered[[target]].shift(-FORECAST_HORIZON)\n",
    "        X, y = X.iloc[:-FORECAST_HORIZON], y.iloc[:-FORECAST_HORIZON]\n",
    "        X.dropna(axis=1, how='all', inplace=True); X.fillna(0, inplace=True)\n",
    "        \n",
    "        X_train_full, X_test, y_train_full, y_test = train_test_split(X, y, test_size=0.2, shuffle=False)\n",
    "        \n",
    "        # Test için nesne oluşturma ve kaydetme\n",
    "        x_scaler = RobustScaler().fit(X_train_full)\n",
    "        y_scaler = RobustScaler().fit(y_train_full)\n",
    "        k_val = min(20 if model_name == 'knn' else 35, X_train_full.shape[1])\n",
    "        X_train_s = pd.DataFrame(x_scaler.transform(X_train_full), columns=X_train_full.columns)\n",
    "        selector = SelectKBest(score_func=f_regression, k=k_val).fit(X_train_s, y_train_full.values.ravel())\n",
    "        \n",
    "        joblib.dump(x_scaler, f'x_scaler_{model_name}_{target}_{COUNTRY_CODE}.pkl')\n",
    "        joblib.dump(y_scaler, f'y_scaler_{model_name}_{target}_{COUNTRY_CODE}.pkl')\n",
    "        joblib.dump(selector, f'selector_{model_name}_{target}_{COUNTRY_CODE}.pkl')\n",
    "        X_test.to_csv(f'X_test_{target}_{COUNTRY_CODE}.csv')\n",
    "        y_test.to_csv(f'y_test_{target}_{COUNTRY_CODE}.csv')\n",
    "\n",
    "        # Hiperparametre optimizasyonu\n",
    "        X_train_hp_f = selector.transform(X_train_s)\n",
    "        y_train_hp_s = y_scaler.transform(y_train_full)\n",
    "        \n",
    "        tscv = TimeSeriesSplit(n_splits=3)\n",
    "        random_search = RandomizedSearchCV(\n",
    "            estimator=model_info[\"estimator\"], param_distributions=model_info[\"params\"],\n",
    "            n_iter=4, cv=tscv, scoring='neg_root_mean_squared_error', random_state=42, n_jobs=-1\n",
    "        )\n",
    "        random_search.fit(X_train_hp_f, y_train_hp_s.ravel())\n",
    "        best_params = random_search.best_params_\n",
    "        \n",
    "        # Final modelinin tüm eğitim verisiyle eğitimi ve kaydı\n",
    "        final_model = model_info[\"estimator\"].set_params(**best_params)\n",
    "        final_model.fit(X_train_hp_f, y_train_hp_s.ravel())\n",
    "        joblib.dump(final_model, f'model_{model_name}_{target}_{COUNTRY_CODE}.pkl')\n",
    "        \n",
    "        print(f\"-> {target.upper()} için {model_name.upper()} modeli eğitildi ve kaydedildi.\")"
   ]
  }
 ],
 "metadata": {
  "kernelspec": {
   "display_name": "Python 3",
   "language": "python",
   "name": "python3"
  },
  "language_info": {
   "codemirror_mode": {
    "name": "ipython",
    "version": 3
   },
   "file_extension": ".py",
   "mimetype": "text/x-python",
   "name": "python",
   "nbconvert_exporter": "python",
   "pygments_lexer": "ipython3",
   "version": "3.12.6"
  }
 },
 "nbformat": 4,
 "nbformat_minor": 5
}
